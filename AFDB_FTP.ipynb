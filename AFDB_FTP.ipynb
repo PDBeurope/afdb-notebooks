{
  "nbformat": 4,
  "nbformat_minor": 0,
  "metadata": {
    "colab": {
      "provenance": [],
      "include_colab_link": true
    },
    "kernelspec": {
      "name": "python3",
      "display_name": "Python 3"
    },
    "language_info": {
      "name": "python"
    }
  },
  "cells": [
    {
      "cell_type": "markdown",
      "metadata": {
        "id": "view-in-github",
        "colab_type": "text"
      },
      "source": [
        "<a href=\"https://colab.research.google.com/github/PDBeurope/afdb-notebooks/blob/main/AFDB_FTP.ipynb\" target=\"_parent\"><img src=\"https://colab.research.google.com/assets/colab-badge.svg\" alt=\"Open In Colab\"/></a>"
      ]
    },
    {
      "cell_type": "markdown",
      "source": [
        "<img src = \"https://www.embl.org/about/info/communications/wp-content/uploads/2017/09/Ebi_official_logo.png\"\n",
        " height=\"100\" align=\"right\">\n",
        "\n",
        "#Downloading AlphaFold Protein Structures via FTP with Google Colab\n",
        "\n",
        "FTP, or File Transfer Protocol, is a standard network protocol facilitating the exchange of files between computers.\n",
        "\n",
        "The European Bioinformatics Institute (EMBL-EBI) makes AlphaFold structures available for download through their FTP server. This includes protein fragments, which are only accessible through FTP.\n",
        "\n",
        "\n",
        "This guide helps you download protein structures from the AlphaFold Database FTP area using Google Colab.\n",
        "<br>\n",
        "<br>\n",
        "\n",
        "##Available Downloads\n",
        "\n",
        "Model organism proteomes: As of September 2023, the FTP area hosts compressed files (TAR archives) containing structures for 48 organisms including model organisms and pathogens.\n",
        "\n",
        "Swiss-Prot: This database contains predicted structures for over 542,000 proteins. You can download these structures in two formats: PDB and CIF.\n",
        "\n",
        "##Understanding Folder Structure\n",
        "\n",
        "Folders are named using a specific format:\n",
        "\n",
        "* **Reference Proteome (UPID)**: This identifies the reference protein set used. (e.g., UP000000429)\n",
        "* **Taxonomy ID:** This is a unique identifier for the organism. (e.g., 85962)\n",
        "* **Organism:** This is a short name derived from the genus and species names. (e.g., HELPY for Helicobacter pylori)\n",
        "\n",
        "<br>\n",
        "\n",
        "The FTP server also provides compressed files containing predicted structures for the Swiss-Prot database, which includes over 542,378 entries.\n",
        "\n",
        "|File type|File name|Size|\n",
        "|---------|--------------|---------------------|\n",
        "|Swiss-Prot (CIF Files)|swissprot_cif_v4.tar| 37,643 MB|\n",
        "|Swiss-Prot (PDB files)|swissprot_pdb_v4.tar|26,935 MB|\n",
        "\n",
        "<br>\n",
        "\n",
        "For detailed information on the available data and folder structure, refer to the AlphaFold DB:\n",
        "\n",
        "##Further Information\n",
        "\n",
        "* Downloads tab: https://alphafold.ebi.ac.uk/download\n",
        "* CHANGELOG: https://ftp.ebi.ac.uk/pub/databases/alphafold\n"
      ],
      "metadata": {
        "id": "LDa23wtBDv5w"
      }
    },
    {
      "cell_type": "markdown",
      "source": [
        "#Running Code in Colab\n",
        "\n",
        "Before running the code in this section, make sure to select the desired options using the provided dropdown menus.\n",
        "\n",
        "To execute a code block, simply click the \"Run\" button (usually a play triangle symbol) next to the code cell."
      ],
      "metadata": {
        "id": "gdQ4JLsdWoLU"
      }
    },
    {
      "cell_type": "code",
      "execution_count": 1,
      "metadata": {
        "id": "bZnvx4lyvZIj",
        "outputId": "5766a5eb-5da4-47ca-98dd-810ea987610c",
        "colab": {
          "base_uri": "https://localhost:8080/"
        },
        "cellView": "form"
      },
      "outputs": [
        {
          "output_type": "stream",
          "name": "stdout",
          "text": [
            "CHANGELOG.txt\n",
            "README.txt\n",
            "accession_ids.csv\n",
            "download_metadata.json\n",
            "latest\n",
            "sequences.fasta\n",
            "v1\n",
            "v2\n",
            "v3\n",
            "v4\n"
          ]
        }
      ],
      "source": [
        "#@title ##Run to see what's in the FTP area\n",
        "#@markdown Run this block to see what's in the FTP area\n",
        "import ftplib\n",
        "import io\n",
        "import json\n",
        "from ftplib import FTP\n",
        "import tarfile\n",
        "import tempfile\n",
        "import os\n",
        "from google.colab import files\n",
        "\n",
        "ftp_server = ftplib.FTP(\"ftp.ebi.ac.uk\")\n",
        "\n",
        "# Login as an anonymous user\n",
        "ftp_server.login(\"anonymous\", \"anonymous@\")\n",
        "\n",
        "# Navigate to the directory\n",
        "ftp_server.cwd(\"/pub/databases/alphafold/\")\n",
        "\n",
        "# List the contents of the directory\n",
        "# Retrieve and print the list of file names in the directory\n",
        "file_names = ftp_server.nlst()\n",
        "for file_name in file_names:\n",
        "    print(file_name)"
      ]
    },
    {
      "cell_type": "code",
      "source": [
        "#@title #See all the available proteomes in one version\n",
        "#@markdown This block will retrieve a list of the files inside the version archive you define\n",
        "\n",
        "#@markdown Before running the code in this cell, please make sure you've selected your desired options from the dropdown menu provided.\n",
        "folder_navigate = \"v4\" #@param[\"v1\", \"v2\", \"v3\", \"v4\"]\n",
        "#@markdown `folder_navigate` is the version of the AFDB that you want to use to download\n",
        "\n",
        "#@title Navigate to the \"v4\" directory\n",
        "ftp_server.cwd(folder_navigate)\n",
        "\n",
        "# Retrieve and print the list of file names in the directory\n",
        "file_names = ftp_server.nlst()\n",
        "for file_name in file_names:\n",
        "    print(file_name)"
      ],
      "metadata": {
        "id": "OSaz9_sLwrhN",
        "cellView": "form"
      },
      "execution_count": null,
      "outputs": []
    },
    {
      "cell_type": "code",
      "source": [
        "#@title #Get the metadata\n",
        "#@markdown Run this block will retrieve the metadata and print it if available.\n",
        "ftp_server = \"ftp.ebi.ac.uk\"\n",
        "\n",
        "try:\n",
        "    with ftplib.FTP(ftp_server) as ftp:\n",
        "        print(\"Accessing metadata...\")\n",
        "        ftp.login(user=\"anonymous\", passwd=\"anonymous\")\n",
        "        ftp.cwd(\"/pub/databases/alphafold\")  # Navigate to the directory containing the metadata file\n",
        "\n",
        "        with io.BytesIO() as bio:\n",
        "            ftp.retrbinary('RETR download_metadata.json', bio.write)\n",
        "            bio.seek(0)  # Go to the start of the BytesIO buffer\n",
        "            metadata = json.load(bio)\n",
        "\n",
        "    # If metadata is a list of dictionaries, similar to the sample above\n",
        "    if metadata:\n",
        "        headers = metadata[0].keys()\n",
        "        print(\"\\t\".join(headers))\n",
        "\n",
        "        # Print the values for each record\n",
        "        for record in metadata:\n",
        "            values = [str(record[key]) for key in headers]\n",
        "            print(\"\\t\".join(values))\n",
        "    else:\n",
        "        print(\"No metadata found.\")\n",
        "\n",
        "except Exception as e:\n",
        "    # Only print an error message for actual FTP errors\n",
        "    if isinstance(e, ftplib.all_errors):\n",
        "        print(f\"Error accessing FTP: {e}\")\n",
        "    else:\n",
        "        pass\n"
      ],
      "metadata": {
        "cellView": "form",
        "id": "hie6E6PUx9di"
      },
      "execution_count": null,
      "outputs": []
    },
    {
      "cell_type": "code",
      "source": [
        "#@title #Extract all fragments for a UniProt accession. <br>\n",
        "#@markdown This block will download all the fragments for a specific UniProt accession <br>\n",
        "#@markdown Before running the block in this cell, please make sure you've selected your desired options from the dropdown menus provided.\n",
        "#@markdown This cell also provides variables you can modify directly to adjust the download behavior. <br><br>\n",
        "#@markdown <strong>NOTE:</strong>  You will get a pop-up window to download files to your local computer\n",
        "from ftplib import FTP\n",
        "import tarfile\n",
        "import tempfile\n",
        "import os\n",
        "import zipfile\n",
        "from google.colab import files\n",
        "import ftplib\n",
        "import io\n",
        "import json\n",
        "\n",
        "\n",
        "def extract_files_and_zip_from_ftp(folder_navigate, tar_file, file_fragment_name, file_type):\n",
        "    username = 'anonymous'\n",
        "    password = 'anonymous'\n",
        "    ftp_server = \"ftp.ebi.ac.uk\"\n",
        "    base_path = f'pub/databases/alphafold/{folder_navigate}/'\n",
        "    file_path = base_path + tar_file\n",
        "    extracted_files = []  # To keep track of extracted file names\n",
        "\n",
        "    # Connect to the FTP server\n",
        "    with FTP(ftp_server) as ftp:\n",
        "        ftp.login(username, password)\n",
        "\n",
        "        # Use a temporary file to store the tar file\n",
        "        with tempfile.NamedTemporaryFile(delete=False) as tmp_file:\n",
        "            try:\n",
        "                ftp.retrbinary(f'RETR {file_path}', tmp_file.write)\n",
        "                tar_file_path = tmp_file.name\n",
        "            except Exception as e:\n",
        "                print(f\"Error downloading the file: {e}\")\n",
        "                return\n",
        "\n",
        "        # Open the temporary tar file for reading\n",
        "        try:\n",
        "            with tarfile.open(tar_file_path, mode=\"r:*\") as tar:\n",
        "                # Search through the entire tar file for all matches and check filename contains the file fragment and has a .cif extension\n",
        "                for member in tar.getmembers():\n",
        "                    if file_fragment_name in member.name and member.name.endswith(f'.{file_type.lower()}.gz'):\n",
        "                        extracted_file = tar.extractfile(member)\n",
        "                        if extracted_file:\n",
        "                            content = extracted_file.read()\n",
        "                            output_filename = f\"{member.name.replace('/', '_')}\"\n",
        "                            with open(output_filename, 'wb') as f_out:\n",
        "                                f_out.write(content)\n",
        "                            print(f\"Extracted and saved {member.name} as {output_filename}.\")\n",
        "                            extracted_files.append(output_filename)\n",
        "        except tarfile.TarError as e:\n",
        "            print(f\"Error reading the tar file: {e}\")\n",
        "        finally:\n",
        "            # Clean up the temporary file\n",
        "            os.remove(tar_file_path)\n",
        "\n",
        "    # Zip the extracted files\n",
        "    zip_filename = \"extracted_fragments_files.zip\"\n",
        "    with zipfile.ZipFile(zip_filename, 'w') as zipf:\n",
        "        for file in extracted_files:\n",
        "            zipf.write(file)\n",
        "            os.remove(file)  # Optional: remove the file after adding it to the zip to save space\n",
        "    print(f\"Created zip archive: {zip_filename}\")\n",
        "\n",
        "    # Download the zip file\n",
        "    files.download(zip_filename)\n",
        "\n",
        "\n",
        "#Input parameters\n",
        "database_version = 'v4' #@param[\"v1\", \"v2\", \"v3\", \"v4\"]\n",
        "tar_file = 'UP000005640_9606_HUMAN_v4.tar' #@param {type:\"string\"}\n",
        "#@markdown Make sure this file coincides with the database version you're searching in. i.e. end of tar file should say `v4`  if you're searching in the `version 4` within the database\n",
        "UniProt_accession = 'Q5T4S7'  #@param {type:\"string\"}\n",
        "file_type = \"cif\" #@param[\"pdb\", \"cif\"]\n",
        "#@markdown If you wish to download `cif` or `pdb` files, make sure it doesn't contain whitespaces\n",
        "\n",
        "\n",
        "extract_files_and_zip_from_ftp(database_version, tar_file, UniProt_accession, file_type)\n"
      ],
      "metadata": {
        "id": "2WQ9BEmwP7RK",
        "cellView": "form"
      },
      "execution_count": null,
      "outputs": []
    }
  ]
}