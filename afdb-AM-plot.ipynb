{
  "nbformat": 4,
  "nbformat_minor": 0,
  "metadata": {
    "colab": {
      "provenance": [],
      "authorship_tag": "ABX9TyMzU7sc3XkqA6h2Yat/5jw2",
      "include_colab_link": true
    },
    "kernelspec": {
      "name": "python3",
      "display_name": "Python 3"
    },
    "language_info": {
      "name": "python"
    }
  },
  "cells": [
    {
      "cell_type": "markdown",
      "metadata": {
        "id": "view-in-github",
        "colab_type": "text"
      },
      "source": [
        "<a href=\"https://colab.research.google.com/github/PDBeurope/afdb-notebooks/blob/main/afdb-AM-plot.ipynb\" target=\"_parent\"><img src=\"https://colab.research.google.com/assets/colab-badge.svg\" alt=\"Open In Colab\"/></a>"
      ]
    },
    {
      "cell_type": "markdown",
      "source": [
        "# Plot AlphaMissense data from the AlphaFold Database <a name=\"INSTRUCTIONS\"></a>\n",
        "\n",
        "This  notebook provides a tool for visualising AlphaMissense predictions from the AlphaFold Database. Here, you can replicate the heatmap visualisation commonly used for AlphaMissense data.\n",
        "\n",
        "---\n",
        "\n",
        "AlphaMissense was used to classify the effects of all possible 216 million single amino acid sequence substitutions across the 19,233 canonical human proteins.\n",
        "\n",
        "For more information about AlphaMissense, please refer to the [paper](https://doi.org/10.1126/science.adg7492).\n",
        "\n",
        "If you make use of an AlphaFold prediction from the AlphaFold Database, please cite the following papers:\n",
        "- [Jumper, J et al. Highly accurate protein structure prediction with AlphaFold. Nature (2021)](https://doi.org/10.1038/s41586-021-03819-2)\n",
        "- [Varadi, M et al. AlphaFold Protein Structure Database in 2024: providing structure coverage for over 214 million protein sequences. Nucleic Acids Research (2024)](https://doi.org/10.1093/nar/gkad1011)\n",
        "\n",
        "If you use data from AlphaMissense in your work, please cite the following paper:\n",
        "- [Cheng, J et al. Accurate proteome-wide missense variant effect prediction with AlphaMissense. Science (2023)](https://doi.org/10.1126/science.adg7492)"
      ],
      "metadata": {
        "id": "Fhm43w_OeZ5_"
      }
    },
    {
      "cell_type": "markdown",
      "source": [
        "## Instructions <a name=\"INSTRUCTIONS\"></a>\n",
        "\n",
        "* Quick Start <a name=\"Quick Start\"></a>\n",
        "\n",
        "In order to make the learning experience more accessible and interactive, we have incorporated widgets that allow you to provide inputs and customise certain aspects of the code.\n",
        "\n",
        "* How to use Google Colab <a name=\"How to use Google Colab\"></a>\n",
        "\n",
        "1. Before running the code, make sure you have filled the necessary fields.\n",
        "2. To run a code cell, click on the cell to select it. You will notice a play button (▶️) on the left side of the cell. Click on the play button, the code will start executing, and you will see the output, if any, displayed below the code cell. <br>\n",
        "The currently running code cell is indicated by a circle with a stop sign next to it. If you need to stop or interrupt the execution of a code cell, you can click on the stop button (■) located next to the play button.<br>\n",
        "3. Move to the next code cell and repeat steps 1 and 2 until you have executed all the code cells in sequence.<br>\n",
        "Remember to run the code cells in the correct order, as their execution might depend on variables or functions defined in previous cells. You can modify the code in a code cell and re-run it to see the updated results.\n",
        "\n",
        "Note: If the notebook runtime is restarted you will need to re-run"
      ],
      "metadata": {
        "id": "qqEC48aveN_9"
      }
    },
    {
      "cell_type": "code",
      "source": [
        "#@title Retrieve AlphaMissense data from the AlphaFold Database\n",
        "#@markdown Here you can retrieve the AlphaMissense data for a particular entry from the AlphaFold Database\n",
        "import requests\n",
        "from google.colab import files\n",
        "import pandas as pd\n",
        "import io\n",
        "\n",
        "UniProt_accession = \"Q5VSL9\" #@param {type:\"string\"}\n",
        "#@markdown Remember that AlphaMissense data is only available across the 19,233 canonical human proteins. We recommend you to first check the [AlphaFold Database](https://alphafold.ebi.ac.uk/).\n",
        "UniProt_accession = UniProt_accession.strip()\n",
        "\n",
        "\n",
        "filename = f\"{UniProt_accession}-aa-substitutions.csv\"\n",
        "\n",
        "def get_protein(UniProt_accession):\n",
        "  api_endpoint = \"https://alphafold.ebi.ac.uk/api/prediction/\"\n",
        "  url = f\"{api_endpoint}{UniProt_accession}\"  # Construct the URL for API\n",
        "\n",
        "  response = requests.get(url)\n",
        "  if response.status_code == 200:\n",
        "    result = response.json()\n",
        "    return result\n",
        "  else:\n",
        "      print ( \"Error, check UniProt Accession\")\n",
        "\n",
        "protein = get_protein(UniProt_accession)\n",
        "if protein:\n",
        "    uniprot_accession = protein[0].get('uniprotAccession')\n",
        "    uniprotId = protein[0].get('uniprotId')\n",
        "    uniprotDescription = protein[0].get('uniprotDescription')\n",
        "\n",
        "    print(\"Retrieving data for: \\n\")\n",
        "    print(f\"UniProt Accession: {uniprot_accession}\")\n",
        "    print(f\"UniProt ID: {uniprotId}\")\n",
        "    print(f\"UniProt Description: {uniprotDescription}\\n\")\n",
        "\n",
        "    am_url = protein[0].get('amAnnotationsUrl')\n",
        "    if am_url:\n",
        "        print(am_url)\n",
        "\n",
        "        # Use wget to download the CSV file from the URL\n",
        "        !wget {am_url} -O {filename}  # -O option specifies the output filename\n",
        "    else:\n",
        "        print(\"No 'amAnnotationsUrl' found\")\n",
        "else:\n",
        "    print(\"Failed to retrieve protein data\")\n",
        "\n",
        "#@title Load file\n",
        "#@markdown First run this code to upload your csv file to plot the AlphaMissense pathogenicity\n",
        "\n",
        "\n",
        "AM = pd.read_csv(filename)\n",
        "\n",
        "def process_data(df):\n",
        "  \"\"\"\n",
        "  This function takes a pandas dataframe with a 'protein_variant' column\n",
        "  and adds two new columns: 'reference residue' and 'alternative amino acids'\n",
        "  by extracting data from the 'protein_variant' column using regex.\n",
        "  \"\"\"\n",
        "  df[\"reference_aa\"] = df[\"protein_variant\"].str.extract('^([A-Z])')\n",
        "  df[\"residue_number\"] = df[\"protein_variant\"].str[1:-1]\n",
        "  df[\"alternative_aa\"] = df[\"protein_variant\"].str.extract('([A-Z])$')\n",
        "  return df\n",
        "\n",
        "df = process_data(AM)\n",
        "df['residue_number'] = df['residue_number'].astype(int)"
      ],
      "metadata": {
        "id": "1GpCXPOcrHPM",
        "cellView": "form"
      },
      "execution_count": null,
      "outputs": []
    },
    {
      "cell_type": "code",
      "source": [
        "#@title Plot and download\n",
        "#@markdown This code will plot the data for the UniProt accession provided and will downaload it as a png file to your local computer\n",
        "import matplotlib.pyplot as plt\n",
        "from matplotlib.colors import LinearSegmentedColormap\n",
        "import seaborn as sns\n",
        "from google.colab import files\n",
        "\n",
        "df['ref_residue'] = df['reference_aa'] + df['residue_number'].astype(str)\n",
        "pivot_table = df.pivot_table(values='am_pathogenicity', index='alternative_aa', columns='ref_residue', aggfunc='mean')\n",
        "\n",
        "#custom palette\n",
        "def create_custom_colormap():\n",
        "    cdict = {\n",
        "        'red': [\n",
        "            (0.0, 56/255, 56/255),\n",
        "            (0.34, 204/255, 204/255),\n",
        "            (0.464, 204/255, 204/255),\n",
        "            (1.0, 165/255, 165/255)\n",
        "        ],\n",
        "        'green': [\n",
        "            (0.0, 83/255, 83/255),\n",
        "            (0.34, 204/255, 204/255),\n",
        "            (0.464, 204/255, 204/255),\n",
        "            (1.0, 13/255, 13/255)\n",
        "        ],\n",
        "        'blue': [\n",
        "            (0.0, 163/255, 163/255),\n",
        "            (0.34, 204/255, 204/255),\n",
        "            (0.464, 204/255, 204/255),\n",
        "            (1.0, 18/255, 18/255)\n",
        "        ]\n",
        "    }\n",
        "    return LinearSegmentedColormap('CustomMap', segmentdata=cdict)\n",
        "\n",
        "# custom colormap\n",
        "custom_cmap = create_custom_colormap()\n",
        "\n",
        "# pivot table\n",
        "pivot_table = pd.pivot_table(df, values='am_pathogenicity',\n",
        "                             index='alternative_aa', columns='residue_number')\n",
        "\n",
        "#custom_order = [\"R\", \"H\", \"K\", \"D\", \"E\", \"S\", \"T\", \"N\", \"Q\",  \"C\", \"P\", \"A\", \"V\", \"I\", \"L\", \"M\", \"G\", \"F\",\"Y\",\"W\"]\n",
        "\n",
        "# Reindex the pivot table\n",
        "#pivot_table = pivot_table.reindex(custom_order)\n",
        "\n",
        "plt.figure(figsize=(20, 6))\n",
        "\n",
        "ax = sns.heatmap(pivot_table, cmap=custom_cmap, vmin=0, vmax=1)  # Limits for the color scale\n",
        "\n",
        "ax.set_xlabel('Residue Number')\n",
        "ax.set_ylabel('Alternative Amino Acid')\n",
        "plt.title('AlphaMissense Pathogenicity Heatmap ')\n",
        "\n",
        "xticks = range(0, pivot_table.shape[1], 50)\n",
        "ax.set_xticks(xticks)\n",
        "ax.set_xticklabels(pivot_table.columns[xticks])\n",
        "ax.set_facecolor('black') #Set background black for matching AA\n",
        "plt.yticks(rotation = 0)\n",
        "\n",
        "cbar = ax.collections[0].colorbar\n",
        "cbar.set_ticks([i / 10.0 for i in range(11)])\n",
        "cbar.set_ticklabels([f'{i / 10.0:.1f}' for i in range(11)])\n",
        "plt.tight_layout()\n",
        "\n",
        "# Save the plot to a file\n",
        "file_name_all = f'pathogenicity_heatmap{filename}.png'\n",
        "plt.savefig(file_name_all)\n",
        "plt.show()\n",
        "plt.close()\n",
        "files.download(file_name_all)"
      ],
      "metadata": {
        "id": "dw9P6kiW06qa",
        "cellView": "form"
      },
      "execution_count": null,
      "outputs": []
    },
    {
      "cell_type": "code",
      "source": [
        "#@title Zoom in\n",
        "#@markdown Here you can zoom in to the regions you wish\n",
        "\n",
        "import matplotlib.pyplot as plt\n",
        "from matplotlib.colors import LinearSegmentedColormap\n",
        "import seaborn as sns\n",
        "import pandas as pd\n",
        "\n",
        "#@markdown Define the limits for the regions you would like to zoom in on the AlphaMissense pathogenicity heatmap\n",
        "number_minimum = 1 # @param {type:\"integer\"}\n",
        "number_maximum = 30 # @param {type:\"integer\"}\n",
        "\n",
        "# Assuming df is your DataFrame and create_custom_colormap is defined\n",
        "# Assuming df is your DataFrame and create_custom_colormap is defined\n",
        "\n",
        "# Combine reference_aa and residue_number into a single column for a multi-index\n",
        "df['ref_residue'] = df['reference_aa'] + df['residue_number'].astype(str)\n",
        "\n",
        "# Pivot the table for heatmap visualization\n",
        "pivot_table = df.pivot_table(values='am_pathogenicity', index='alternative_aa', columns='residue_number', aggfunc='mean')\n",
        "\n",
        "# Custom colormap definition\n",
        "custom_cmap = create_custom_colormap()\n",
        "\n",
        "# Plot heatmap\n",
        "fig, ax1 = plt.subplots(figsize=(20, 6))\n",
        "sns.heatmap(pivot_table, cmap=custom_cmap, ax=ax1, vmin=0, vmax=1)\n",
        "\n",
        "ax1.set_xlabel('Residue Number')\n",
        "ax1.set_ylabel('Alternative Amino Acid')\n",
        "ax1.set_title(\"AlphaMissense Pathogenicity Heatmap\")\n",
        "\n",
        "ax1.set_xlim(number_minimum - 1, number_maximum )\n",
        "\n",
        "ax1.set_xticks(range(number_minimum - 1, number_maximum))\n",
        "ax1.set_xticklabels(range(number_minimum, number_maximum + 1), ha=\"center\")\n",
        "\n",
        "# Setting up secondary x-axis\n",
        "ax2 = ax1.twiny()\n",
        "ax2.set_xlim(ax1.get_xlim())\n",
        "ax1.set_facecolor('black')\n",
        "\n",
        "# Extracting reference amino acids for secondary axis\n",
        "ref_aas = df[df['residue_number'].isin(range(number_minimum, number_maximum + 1))].drop_duplicates(subset=['residue_number'])[['residue_number', 'reference_aa']]\n",
        "ref_aas.set_index('residue_number', inplace=True)\n",
        "ref_aas = ref_aas.loc[range(number_minimum, number_maximum + 1)]  # Indexing adjusted\n",
        "\n",
        "# Set tick positions and labels for ax2\n",
        "ax2.set_xticks(range(number_minimum - 1, number_maximum))\n",
        "ax2.set_xticklabels(ref_aas['reference_aa'], ha=\"center\")  # Centered labels\n",
        "\n",
        "file_name = f'pathogenicity_heatmap{filename}{number_minimum}{number_maximum}.png'\n",
        "plt.tight_layout()\n",
        "plt.savefig(file_name)\n",
        "plt.show()"
      ],
      "metadata": {
        "id": "hktSnk78CnUI",
        "cellView": "form"
      },
      "execution_count": null,
      "outputs": []
    },
    {
      "cell_type": "code",
      "source": [
        "#@title Download zoomed-in plot\n",
        "#@markdown Run this code to download the previous plot\n",
        "plt.close()\n",
        "files.download(file_name)"
      ],
      "metadata": {
        "colab": {
          "base_uri": "https://localhost:8080/",
          "height": 17
        },
        "cellView": "form",
        "id": "RCM4-S04wv6S",
        "outputId": "a2637caa-eb65-4b28-a0bd-b936a181d752"
      },
      "execution_count": null,
      "outputs": [
        {
          "output_type": "display_data",
          "data": {
            "text/plain": [
              "<IPython.core.display.Javascript object>"
            ],
            "application/javascript": [
              "\n",
              "    async function download(id, filename, size) {\n",
              "      if (!google.colab.kernel.accessAllowed) {\n",
              "        return;\n",
              "      }\n",
              "      const div = document.createElement('div');\n",
              "      const label = document.createElement('label');\n",
              "      label.textContent = `Downloading \"${filename}\": `;\n",
              "      div.appendChild(label);\n",
              "      const progress = document.createElement('progress');\n",
              "      progress.max = size;\n",
              "      div.appendChild(progress);\n",
              "      document.body.appendChild(div);\n",
              "\n",
              "      const buffers = [];\n",
              "      let downloaded = 0;\n",
              "\n",
              "      const channel = await google.colab.kernel.comms.open(id);\n",
              "      // Send a message to notify the kernel that we're ready.\n",
              "      channel.send({})\n",
              "\n",
              "      for await (const message of channel.messages) {\n",
              "        // Send a message to notify the kernel that we're ready.\n",
              "        channel.send({})\n",
              "        if (message.buffers) {\n",
              "          for (const buffer of message.buffers) {\n",
              "            buffers.push(buffer);\n",
              "            downloaded += buffer.byteLength;\n",
              "            progress.value = downloaded;\n",
              "          }\n",
              "        }\n",
              "      }\n",
              "      const blob = new Blob(buffers, {type: 'application/binary'});\n",
              "      const a = document.createElement('a');\n",
              "      a.href = window.URL.createObjectURL(blob);\n",
              "      a.download = filename;\n",
              "      div.appendChild(a);\n",
              "      a.click();\n",
              "      div.remove();\n",
              "    }\n",
              "  "
            ]
          },
          "metadata": {}
        },
        {
          "output_type": "display_data",
          "data": {
            "text/plain": [
              "<IPython.core.display.Javascript object>"
            ],
            "application/javascript": [
              "download(\"download_f3cedc0a-91f5-4ab1-bed3-cab723b33046\", \"pathogenicity_heatmapQ5VSL9-aa-substitutions.csv130.png\", 43595)"
            ]
          },
          "metadata": {}
        }
      ]
    },
    {
      "cell_type": "markdown",
      "source": [
        "## Contact us\n",
        "\n",
        "If you experience any bugs please contact afdbhelp@ebi.ac.uk\n",
        "\n",
        "---"
      ],
      "metadata": {
        "id": "neVIdiS9VUpI"
      }
    }
  ]
}